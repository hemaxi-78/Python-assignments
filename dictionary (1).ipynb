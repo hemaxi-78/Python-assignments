{
 "cells": [
  {
   "cell_type": "markdown",
   "metadata": {},
   "source": [
    "dictionary ::: which is contain key ans value in pair\n",
    "\n",
    "\n",
    "syntax:\n",
    "\n",
    "\n",
    "var = {\n",
    "\n",
    "       'key': 'value',\n",
    "\n",
    "\n",
    "}\n",
    "\n",
    "\n",
    "note : key must be unique in dicitionary we can store multiple values\n",
    "\n"
   ]
  },
  {
   "cell_type": "markdown",
   "metadata": {},
   "source": []
  },
  {
   "cell_type": "code",
   "execution_count": 1,
   "metadata": {},
   "outputs": [
    {
     "name": "stdout",
     "output_type": "stream",
     "text": [
      "{'name': 'siddharth', 'subject': 'python', 'framework': 'Django'}\n",
      "name = siddharth\n",
      "subject = python\n",
      "framework = Django\n"
     ]
    }
   ],
   "source": [
    "student = {\n",
    "\n",
    "    'name':'siddharth',\n",
    "    'subject':'python',\n",
    "    'framework':'Django',\n",
    "}\n",
    "\n",
    "print(student)\n",
    "\n",
    "for k,v in student.items():\n",
    "    print(f'{k} = {v}')"
   ]
  },
  {
   "cell_type": "code",
   "execution_count": 4,
   "metadata": {},
   "outputs": [
    {
     "name": "stdout",
     "output_type": "stream",
     "text": [
      "name\n",
      "subject\n",
      "framework\n"
     ]
    }
   ],
   "source": [
    "student = {\n",
    "\n",
    "    'name':'siddharth',\n",
    "    'subject':'python',\n",
    "    'framework':'Django',\n",
    "}\n",
    "\n",
    "\n",
    "for key in student.keys():\n",
    "    print(key)"
   ]
  },
  {
   "cell_type": "code",
   "execution_count": 5,
   "metadata": {},
   "outputs": [
    {
     "name": "stdout",
     "output_type": "stream",
     "text": [
      "siddharth\n",
      "python\n",
      "Django\n"
     ]
    }
   ],
   "source": [
    "student = {\n",
    "\n",
    "    'name':'siddharth',\n",
    "    'subject':'python',\n",
    "    'framework':'Django',\n",
    "}\n",
    "\n",
    "\n",
    "\n",
    "for value in student.values():\n",
    "    print(value)"
   ]
  },
  {
   "cell_type": "code",
   "execution_count": 6,
   "metadata": {},
   "outputs": [
    {
     "name": "stdout",
     "output_type": "stream",
     "text": [
      "siddharth\n"
     ]
    }
   ],
   "source": [
    "student = {\n",
    "\n",
    "    'name':'siddharth',\n",
    "    'subject':'python',\n",
    "    'framework':'Django',\n",
    "}\n",
    "\n",
    "\n",
    "# fetch value using key\n",
    "\n",
    "\n",
    "print(student['name'])"
   ]
  },
  {
   "cell_type": "code",
   "execution_count": 9,
   "metadata": {},
   "outputs": [
    {
     "name": "stdout",
     "output_type": "stream",
     "text": [
      "siddharth\n"
     ]
    }
   ],
   "source": [
    "student = {\n",
    "\n",
    "    'name':'siddharth',\n",
    "    'subject':'python',\n",
    "    'framework':'Django',\n",
    "}\n",
    "\n",
    "\n",
    "\n",
    "key = input('enter which value you want:')\n",
    "\n",
    "print(student['name'])"
   ]
  },
  {
   "cell_type": "code",
   "execution_count": 13,
   "metadata": {},
   "outputs": [
    {
     "name": "stdout",
     "output_type": "stream",
     "text": [
      "wh0 is prime minister of india?\n",
      "right answer\n"
     ]
    }
   ],
   "source": [
    "quiz = {\n",
    "\n",
    "    1:{\n",
    "        'question':'who is prime minister of india?',\n",
    "        'answer':'narendra modi',\n",
    "    },\n",
    "    2:{\n",
    "        'question':'famous programming language name?',\n",
    "        'answer':'pytohn'\n",
    "    }\n",
    "}\n",
    "\n",
    "print(quiz[1]['question'])\n",
    "\n",
    "ans = input('enter your answer:')\n",
    "if ans == quiz[1]['answer']:\n",
    "    print('right answer')"
   ]
  },
  {
   "cell_type": "code",
   "execution_count": 15,
   "metadata": {},
   "outputs": [
    {
     "name": "stdout",
     "output_type": "stream",
     "text": [
      "question: wh0 is prime minister of india?\n",
      "wrong answer\n",
      "question: wh0 is prime minister of india?\n",
      "right answer\n"
     ]
    }
   ],
   "source": [
    "quiz = {\n",
    "\n",
    "    1:{\n",
    "        'question':'wh0 is prime minister of india?',\n",
    "        'answer':'narendra modi',\n",
    "    },\n",
    "    2:{\n",
    "        'question':'famous programming language name?',\n",
    "        'answer':'pytohn'\n",
    "    }\n",
    "}\n",
    "\n",
    "\n",
    "for i in range(1,len(quiz.keys()) + 1):\n",
    "    print('question:',quiz[1]['question'])\n",
    "\n",
    "    ans = input('enter answer:')\n",
    "\n",
    "    if ans == quiz [i] ['answer']:\n",
    "        print('right answer')\n",
    "    else:\n",
    "        print('wrong answer')"
   ]
  },
  {
   "cell_type": "code",
   "execution_count": null,
   "metadata": {},
   "outputs": [],
   "source": []
  }
 ],
 "metadata": {
  "kernelspec": {
   "display_name": "Python 3.9.6 64-bit",
   "language": "python",
   "name": "python3"
  },
  "language_info": {
   "codemirror_mode": {
    "name": "ipython",
    "version": 3
   },
   "file_extension": ".py",
   "mimetype": "text/x-python",
   "name": "python",
   "nbconvert_exporter": "python",
   "pygments_lexer": "ipython3",
   "version": "3.9.6"
  },
  "orig_nbformat": 4,
  "vscode": {
   "interpreter": {
    "hash": "b8eeea7db13471468ad276e1aa6abbd3f9f4200994ed792cdeec60c0462f2e2a"
   }
  }
 },
 "nbformat": 4,
 "nbformat_minor": 2
}
